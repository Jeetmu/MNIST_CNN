{
 "cells": [
  {
   "cell_type": "code",
   "execution_count": 5,
   "id": "03c16e93-31ec-4216-8d45-0faca0281c43",
   "metadata": {},
   "outputs": [],
   "source": [
    "from keras.layers import Conv2D, MaxPooling2D, Flatten, Dense\n",
    "from keras.models import Sequential\n",
    "from keras.datasets import mnist\n",
    "from keras.utils import to_categorical\n",
    "import matplotlib.pyplot as plt"
   ]
  },
  {
   "cell_type": "code",
   "execution_count": 7,
   "id": "a6f69468-bfda-4f2e-a7ba-1a1d30d4f9e5",
   "metadata": {},
   "outputs": [],
   "source": [
    "(X_train, y_train), (X_test, y_test) = mnist.load_data()"
   ]
  },
  {
   "cell_type": "code",
   "execution_count": 9,
   "id": "a6f87496-70bf-4d45-9bf7-f0b48881f433",
   "metadata": {},
   "outputs": [
    {
     "name": "stdout",
     "output_type": "stream",
     "text": [
      "(60000, 28, 28)\n",
      "(60000,)\n",
      "(10000, 28, 28)\n",
      "(10000,)\n"
     ]
    }
   ],
   "source": [
    "print(X_train.shape)\n",
    "print(y_train.shape)\n",
    "print(X_test.shape)\n",
    "print(y_test.shape)"
   ]
  },
  {
   "cell_type": "code",
   "execution_count": 12,
   "id": "fd2417f6-21c7-4b83-a993-eaacd840dcdf",
   "metadata": {},
   "outputs": [],
   "source": [
    "# having one channel in gray scale\n",
    "X_train = X_train.reshape(60000,28,28,1)\n",
    "X_test = X_test.reshape(10000,28,28 ,1)\n",
    "X_train = X_train.astype(\"float32\")\n",
    "X_test = X_test.astype(\"float32\")\n",
    "X_train /= 255.0\n",
    "X_test /= 255.0\n",
    "y_train = to_categorical(y_train, 10)\n",
    "y_test = to_categorical(y_test, 10)"
   ]
  },
  {
   "cell_type": "code",
   "execution_count": 13,
   "id": "3eb3bd08-fbc2-4167-87d0-6a4cb0d1e30c",
   "metadata": {},
   "outputs": [
    {
     "name": "stdout",
     "output_type": "stream",
     "text": [
      "(60000, 28, 28, 1)\n",
      "(60000, 10)\n",
      "(10000, 28, 28, 1)\n",
      "(10000, 10)\n"
     ]
    }
   ],
   "source": [
    "print(X_train.shape)\n",
    "print(y_train.shape)\n",
    "print(X_test.shape)\n",
    "print(y_test.shape)"
   ]
  },
  {
   "cell_type": "code",
   "execution_count": 14,
   "id": "0e91b9c1-1deb-4c00-a794-32e729826764",
   "metadata": {},
   "outputs": [],
   "source": [
    "cnn = Sequential()\n",
    "cnn.add(Conv2D(32,\n",
    "               kernel_size=(5,5),\n",
    "               input_shape=(28,28,1),\n",
    "               padding='same',\n",
    "              activation='relu'))"
   ]
  },
  {
   "cell_type": "code",
   "execution_count": 15,
   "id": "88887c16-ac9a-4228-8bdb-e6a34fa0ef7a",
   "metadata": {},
   "outputs": [],
   "source": [
    "cnn.add(MaxPooling2D())"
   ]
  },
  {
   "cell_type": "code",
   "execution_count": 16,
   "id": "f6474934-43f8-4889-9ecd-ec688f84c42b",
   "metadata": {},
   "outputs": [],
   "source": [
    "cnn.add(Conv2D(64,\n",
    "               kernel_size=(5,5),\n",
    "              padding='same',\n",
    "              activation='relu'))"
   ]
  },
  {
   "cell_type": "code",
   "execution_count": 17,
   "id": "255213c1-9028-4f1a-874a-3fdad99d1086",
   "metadata": {},
   "outputs": [],
   "source": [
    "cnn.add(MaxPooling2D())"
   ]
  },
  {
   "cell_type": "code",
   "execution_count": 19,
   "id": "77231348-df75-4090-ae0f-c4f902d373bb",
   "metadata": {},
   "outputs": [],
   "source": [
    "cnn.add(Flatten())"
   ]
  },
  {
   "cell_type": "code",
   "execution_count": 20,
   "id": "3e76ad12-5279-43e3-825b-53a7962951b7",
   "metadata": {},
   "outputs": [],
   "source": [
    "cnn.add(Dense(1024, activation='relu'))\n",
    "cnn.add(Dense(10, activation='softmax'))"
   ]
  },
  {
   "cell_type": "code",
   "execution_count": 21,
   "id": "c451d8cc-0302-4035-87ba-85a38bf2fe2d",
   "metadata": {},
   "outputs": [],
   "source": [
    "cnn.compile(optimizer='adam', loss='categorical_crossentropy',metrics=['accuracy'])"
   ]
  },
  {
   "cell_type": "code",
   "execution_count": 22,
   "id": "9c1d4125-4d87-4f60-9651-804307261535",
   "metadata": {},
   "outputs": [
    {
     "name": "stdout",
     "output_type": "stream",
     "text": [
      "Model: \"sequential\"\n",
      "_________________________________________________________________\n",
      " Layer (type)                Output Shape              Param #   \n",
      "=================================================================\n",
      " conv2d (Conv2D)             (None, 28, 28, 32)        832       \n",
      "                                                                 \n",
      " max_pooling2d (MaxPooling2  (None, 14, 14, 32)        0         \n",
      " D)                                                              \n",
      "                                                                 \n",
      " conv2d_1 (Conv2D)           (None, 14, 14, 64)        51264     \n",
      "                                                                 \n",
      " max_pooling2d_1 (MaxPoolin  (None, 7, 7, 64)          0         \n",
      " g2D)                                                            \n",
      "                                                                 \n",
      " flatten (Flatten)           (None, 3136)              0         \n",
      "                                                                 \n",
      " dense (Dense)               (None, 1024)              3212288   \n",
      "                                                                 \n",
      " dense_1 (Dense)             (None, 10)                10250     \n",
      "                                                                 \n",
      "=================================================================\n",
      "Total params: 3274634 (12.49 MB)\n",
      "Trainable params: 3274634 (12.49 MB)\n",
      "Non-trainable params: 0 (0.00 Byte)\n",
      "_________________________________________________________________\n",
      "None\n"
     ]
    }
   ],
   "source": [
    "print(cnn.summary())"
   ]
  },
  {
   "cell_type": "code",
   "execution_count": 23,
   "id": "000844de-64b1-4b21-84b1-64daa7fedb53",
   "metadata": {},
   "outputs": [
    {
     "name": "stdout",
     "output_type": "stream",
     "text": [
      "Epoch 1/5\n",
      "1875/1875 [==============================] - 199s 105ms/step - loss: 0.0964 - accuracy: 0.9701 - val_loss: 0.0572 - val_accuracy: 0.9822\n",
      "Epoch 2/5\n",
      "1875/1875 [==============================] - 197s 105ms/step - loss: 0.0351 - accuracy: 0.9889 - val_loss: 0.0268 - val_accuracy: 0.9912\n",
      "Epoch 3/5\n",
      "1875/1875 [==============================] - 206s 110ms/step - loss: 0.0243 - accuracy: 0.9923 - val_loss: 0.0142 - val_accuracy: 0.9956\n",
      "Epoch 4/5\n",
      "1875/1875 [==============================] - 197s 105ms/step - loss: 0.0184 - accuracy: 0.9943 - val_loss: 0.0204 - val_accuracy: 0.9933\n",
      "Epoch 5/5\n",
      "1875/1875 [==============================] - 196s 105ms/step - loss: 0.0125 - accuracy: 0.9962 - val_loss: 0.0060 - val_accuracy: 0.9983\n"
     ]
    }
   ],
   "source": [
    "# train model\n",
    "history_cnn = cnn.fit(\n",
    "    X_train,\n",
    "    y_train,\n",
    "    epochs=5,\n",
    "    verbose=1,\n",
    "    validation_data=(X_train,y_train))"
   ]
  },
  {
   "cell_type": "code",
   "execution_count": null,
   "id": "c45eace2-107a-45fe-a4da-507cc96331e3",
   "metadata": {},
   "outputs": [],
   "source": [
    "score = cnn.evaluate(X_test, y_test)\n",
    "score"
   ]
  }
 ],
 "metadata": {
  "kernelspec": {
   "display_name": "Python 3",
   "language": "python",
   "name": "python3"
  },
  "language_info": {
   "codemirror_mode": {
    "name": "ipython",
    "version": 3
   },
   "file_extension": ".py",
   "mimetype": "text/x-python",
   "name": "python",
   "nbconvert_exporter": "python",
   "pygments_lexer": "ipython3",
   "version": "3.8.8"
  }
 },
 "nbformat": 4,
 "nbformat_minor": 5
}
